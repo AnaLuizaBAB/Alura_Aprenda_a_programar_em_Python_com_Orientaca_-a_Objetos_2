{
 "cells": [
  {
   "cell_type": "markdown",
   "metadata": {},
   "source": [
    "Primeiramente criamos uma URL para entender como elas funcionam"
   ]
  },
  {
   "cell_type": "code",
   "execution_count": 2,
   "metadata": {},
   "outputs": [
    {
     "name": "stdout",
     "output_type": "stream",
     "text": [
      "http://bytebank.com/cambio?moedaOrigem=real&moedaDestino=dolar&quantidade=100\n"
     ]
    }
   ],
   "source": [
    "url = 'http://bytebank.com/cambio?moedaOrigem=real&moedaDestino=dolar&quantidade=100'\n",
    "print (url)"
   ]
  },
  {
   "cell_type": "markdown",
   "metadata": {},
   "source": [
    "##### Fatiamento de strings."
   ]
  },
  {
   "cell_type": "markdown",
   "metadata": {},
   "source": [
    "Toda url tem sua base e seus parâmetros que são separados por meio de um ponto de interrogação"
   ]
  },
  {
   "cell_type": "code",
   "execution_count": 6,
   "metadata": {},
   "outputs": [
    {
     "name": "stdout",
     "output_type": "stream",
     "text": [
      "http://bytebank.com/cambio\n",
      "moedaOrigem=real&moedaDestino=dolar&quantidade=100\n"
     ]
    }
   ],
   "source": [
    "url_base = url[0:26]\n",
    "print(url_base)\n",
    "\n",
    "url_parametros = url[27:]\n",
    "print(url_parametros)\n"
   ]
  },
  {
   "cell_type": "code",
   "execution_count": null,
   "metadata": {},
   "outputs": [],
   "source": []
  }
 ],
 "metadata": {
  "kernelspec": {
   "display_name": "Python 3",
   "language": "python",
   "name": "python3"
  },
  "language_info": {
   "codemirror_mode": {
    "name": "ipython",
    "version": 3
   },
   "file_extension": ".py",
   "mimetype": "text/x-python",
   "name": "python",
   "nbconvert_exporter": "python",
   "pygments_lexer": "ipython3",
   "version": "3.11.9"
  }
 },
 "nbformat": 4,
 "nbformat_minor": 2
}
